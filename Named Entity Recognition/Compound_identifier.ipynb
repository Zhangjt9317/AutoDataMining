{
 "cells": [
  {
   "cell_type": "code",
   "execution_count": 56,
   "metadata": {},
   "outputs": [
    {
     "output_type": "execute_result",
     "data": {
      "text/plain": "[Span('silicon', 376, 383),\n Span('silicon', 45, 52),\n Span('h-SiB', 469, 474),\n Span('h-SiB', 218, 223),\n Span('Si', 459, 461),\n Span('hydrogen', 324, 332),\n Span('boron', 57, 62),\n Span('silicon', 708, 715),\n Span('boron', 367, 372)]"
     },
     "metadata": {},
     "execution_count": 56
    }
   ],
   "source": [
    "# Gathering all Compound Names\n",
    "from chemdataextractor import Document \n",
    "\n",
    "d = Document('Two-dimensional (2D) heterosheets built from silicon and boron may exhibit an intrinsic metallic behavior. From density-functional-theory computer simulations, we have demonstrated that a 2D honeycomb binary compound (h-SiB), which exhibits robust structural and thermal stabilities, maintains its metallicity by increasing hydrogen coverages at 25%, 50%, and 75% on boron or silicon sublattices. However, under a total hydrogenation condition (100%) on B or Si sites, h-SiB opens a well-defined bandgap, meaning that it is possible to obtain a metal-insulator transition at zero temperature in 2D. Additional calculations show that the hydrogenation on B sublattices is energetically more favorable than on silicon.')\n",
    "\n",
    "d.cems\n",
    "#d.abbreviation_definitions\n",
    "#d.records.serialize()"
   ]
  },
  {
   "cell_type": "code",
   "execution_count": 9,
   "metadata": {},
   "outputs": [
    {
     "output_type": "execute_result",
     "data": {
      "text/plain": "[Span('P3HT', 568, 572),\n Span('ZnO', 8, 11),\n Span('PCBM', 573, 577),\n Span('PCBM', 224, 228),\n Span('ZnO', 269, 272),\n Span('poly(3-hexylthiophene-2,5-diyl):[6,6]-phenyl-C61-buyric acid methyl ester', 144, 217),\n Span('P3HT', 219, 223)]"
     },
     "metadata": {},
     "execution_count": 9
    }
   ],
   "source": [
    "# Gathering all Compound Names\n",
    "from chemdataextractor import Document\n",
    "\n",
    "d = Document(' The effect of poly(3,4-ethylenedioxythiophene)-polystyrenesulfonic acid (PEDOT:PSS) modified with an amphiphilic fluoro compound was investigated on the performance of flexible organic solar cells in bilayer geometry and using substrate based on poly(ether-imide) (PEI) with ITO films with low resistivity and high optical transmittance. The poly[9,9′-dioctyl-fluorene-co-bithiophene] (F8T2) polymer and fullerene (C60) were used as electron donor and acceptor materials, respectively. The spin-casted PEDOT:PSS films had its sheet resistance reduced from 7MΩsq−1 to 40kΩsq−1 after a single step treatment with hexafluoroacetone (HFA), reflecting in an enhancement of power conversion efficiency in the photovoltaic cells from 0.45% up to 1.30%.')\n",
    "\n",
    "\n",
    "\n",
    " A thin ZnO (&lt;200nm) film grown by Atmospheric Atomic Layer Deposition (AALD) in a matter of minutes was studied as a hole-blocking layer in poly(3-hexylthiophene-2,5-diyl):[6,6]-phenyl-C61-buyric acid methyl ester (P3HT:PCBM) based inverted solar cells. These AALD ZnO layers were compact, had a high electron mobility of 3.4+0.1cm2/Vs, had up to 100% transmittance to visible light, and a good wettability for the blend. Despite the very rapid, open atmosphere growth method, the cell performance was comparable with some of the best inverted bulk heterojunction P3HT:PCBM cells in the literature. The performance was also maintained after 200 days of storage in air in the dark.\n",
    "d.cems\n",
    "#d.records.serialize()\n",
    "#d.abbreviation_definitions"
   ]
  },
  {
   "cell_type": "code",
   "execution_count": 59,
   "metadata": {},
   "outputs": [
    {
     "output_type": "stream",
     "name": "stdout",
     "text": "[['3-hexylthiophene'], ['FeCl3'], ['HAuCl4'], ['NaBH4'], ['C60'], ['P3HT', 'poly(3-hexylthiophene)'], ['P3HT-C60']]\n"
    }
   ],
   "source": [
    "from chemdataextractor import Document\n",
    "\n",
    "#abstract in form of Document\n",
    "\n",
    "d = Document('Functionalized C60 was reacted with 3-hexylthiophene in the presence of FeCl3 to produce a copolymer (P3HT-C60) containing 3-hexylthiophene units as the main chain, with C60 side groups. Gold nanoparticles (AuNPs) were synthesized in the presence of poly(3-hexylthiophene) (P3HT), or P3HT-C60 copolymer, using a two-phase, one–pot reaction involving the reduction of HAuCl4 by NaBH4. This approach resulted in the formation of nanocomposites where AuNPs are directly stabilized with P3HT or P3HT-C60. All the materials were characterized using UV–vis absorption and fluorescence spectroscopy, X-ray diffraction and high-resolution transmission electron microscopy, and were applied as sensitizers or co-sensitizers in dye-sensitized solar cells. The synergistic effect in the ternary component nanocomposite introduced by the presence of C60 and AuNPs resulted in devices with higher photocurrents compared to standard devices.')\n",
    "\n",
    "# Abstract in form of String\n",
    "\n",
    "x = []\n",
    "for element in d.elements: \n",
    "    #print(element.raw_sentences)\n",
    "    x.append(element.raw_sentences)\n",
    "\n",
    "#print(type(x))\n",
    "\n",
    "abstract = \"\"\n",
    "\n",
    "for sentence in x:\n",
    "    #abstract = abstract + sentence\n",
    "    #print(type(sentence))\n",
    "    for text in sentence:\n",
    "        abstract = abstract + text\n",
    "#d.cems\n",
    "Compounds = d.records.serialize()\n",
    "#d.abbreviation_definitions\n",
    "\n",
    "x = []\n",
    "# Taking values from dictionary and storing them\n",
    "for dictionary in Compounds:\n",
    "    for names in dictionary.values():\n",
    "        x.append(names)\n",
    "print(x)\n",
    "\n",
    "\n",
    "\n",
    "\n"
   ]
  },
  {
   "cell_type": "code",
   "execution_count": 60,
   "metadata": {},
   "outputs": [
    {
     "output_type": "stream",
     "name": "stdout",
     "text": "3-hexylthiophene 3\nFeCl3 1\nHAuCl4 1\nNaBH4 1\nC60 6\nP3HT 5\nP3HT-C60 3\n"
    }
   ],
   "source": [
    "# Now want to count how often they appear\n",
    "\n",
    "for words in x: \n",
    "    count = abstract.count(words[0])\n",
    "    print(words[0],count)\n",
    "\n",
    "\n",
    " \n",
    "\n",
    "\n"
   ]
  }
 ],
 "metadata": {
  "language_info": {
   "codemirror_mode": {
    "name": "ipython",
    "version": 3
   },
   "file_extension": ".py",
   "mimetype": "text/x-python",
   "name": "python",
   "nbconvert_exporter": "python",
   "pygments_lexer": "ipython3",
   "version": "3.7.6-final"
  },
  "orig_nbformat": 2,
  "kernelspec": {
   "name": "python3",
   "display_name": "Python 3"
  }
 },
 "nbformat": 4,
 "nbformat_minor": 2
}