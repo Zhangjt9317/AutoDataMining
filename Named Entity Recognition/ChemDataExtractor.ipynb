{
 "cells": [
  {
   "cell_type": "code",
   "execution_count": 3,
   "metadata": {},
   "outputs": [
    {
     "output_type": "execute_result",
     "data": {
      "text/plain": "[Span('nitrogen', 546, 554),\n Span('carbon', 161, 167),\n Span('epoxy', 174, 179),\n Span('gallium', 593, 600),\n Span('carbon', 798, 804),\n Span('carbon', 492, 498),\n Span('oxygen', 482, 488),\n Span('carbon', 558, 564),\n Span('carbon', 1063, 1069)]"
     },
     "metadata": {},
     "execution_count": 3
    }
   ],
   "source": [
    "# Extracting Individual Chemical Entity Mention (CEM)\n",
    "from chemdataextractor import Document\n",
    "\n",
    "doc = Document('Three sample preparation techniques, focused ion beam (FIB), ion beam (IB) etching, and ultramicrotomy (UM) were used in comparison to analyze the interphase of carbon fiber/epoxy composites using transmission electron microscopy. An intact interphase with a relatively uniform thickness was obtained by FIB, and detailed chemical analysis of the interphase was investigated by electron energy loss spectroscopy. It shows that the interphase region is 200nm wide with an increasing oxygen-to-carbon ratio from 10nm to 19nm and an almost constant nitrogen-to-carbon ratio of about 3%. However, gallium implantation of FIB tends to hinder fine structure analysis of the interphase. For IB etching, the interphase region is observed with transition morphology from amorphous resin to nano-crystalline carbon fiber, but the uneven sample thickness brings difficulty for quantitative chemical analysis. Moreover, UM tends to cause damage and/or deformation on the interphase. These results are meaningful for in-depth understanding on the interphase characteristic of carbon fiber composites.')\n",
    "\n",
    "doc.cems"
   ]
  },
  {
   "cell_type": "code",
   "execution_count": 4,
   "metadata": {},
   "outputs": [
    {
     "output_type": "execute_result",
     "data": {
      "text/plain": "[(['FIB'], ['focused', 'ion', 'beam'], None)]"
     },
     "metadata": {},
     "execution_count": 4
    }
   ],
   "source": [
    "# Extracting abbreviations\n",
    "from chemdataextractor import Document\n",
    "\n",
    "doc = Document('Three sample preparation techniques, focused ion beam (FIB), ion beam (IB) etching, and ultramicrotomy (UM) were used in comparison to analyze the interphase of carbon fiber/epoxy composites using transmission electron microscopy. An intact interphase with a relatively uniform thickness was obtained by FIB, and detailed chemical analysis of the interphase was investigated by electron energy loss spectroscopy. It shows that the interphase region is 200nm wide with an increasing oxygen-to-carbon ratio from 10nm to 19nm and an almost constant nitrogen-to-carbon ratio of about 3%. However, gallium implantation of FIB tends to hinder fine structure analysis of the interphase. For IB etching, the interphase region is observed with transition morphology from amorphous resin to nano-crystalline carbon fiber, but the uneven sample thickness brings difficulty for quantitative chemical analysis. Moreover, UM tends to cause damage and/or deformation on the interphase. These results are meaningful for in-depth understanding on the interphase characteristic of carbon fiber composites.')\n",
    "\n",
    "doc.abbreviation_definitions"
   ]
  },
  {
   "cell_type": "code",
   "execution_count": 11,
   "metadata": {},
   "outputs": [
    {
     "output_type": "execute_result",
     "data": {
      "text/plain": "[{'names': ['epoxy']},\n {'names': ['oxygen']},\n {'names': ['nitrogen']},\n {'names': ['gallium']},\n {'names': ['carbon']}]"
     },
     "metadata": {},
     "execution_count": 11
    }
   ],
   "source": [
    "# Producing record that combines chemical mentions, abbreviations, properties and spectra \n",
    "from chemdataextractor import Document\n",
    "\n",
    "doc = Document('Three sample preparation techniques, focused ion beam (FIB), ion beam (IB) etching, and ultramicrotomy (UM) were used in comparison to analyze the interphase of carbon fiber/epoxy composites using transmission electron microscopy. An intact interphase with a relatively uniform thickness was obtained by FIB, and detailed chemical analysis of the interphase was investigated by electron energy loss spectroscopy. It shows that the interphase region is 200nm wide with an increasing oxygen-to-carbon ratio from 10nm to 19nm and an almost constant nitrogen-to-carbon ratio of about 3%. However, gallium implantation of FIB tends to hinder fine structure analysis of the interphase. For IB etching, the interphase region is observed with transition morphology from amorphous resin to nano-crystalline carbon fiber, but the uneven sample thickness brings difficulty for quantitative chemical analysis. Moreover, UM tends to cause damage and/or deformation on the interphase. These results are meaningful for in-depth understanding on the interphase characteristic of carbon fiber composites.')\n",
    "\n",
    "doc.records[].serialize()"
   ]
  },
  {
   "cell_type": "code",
   "execution_count": 12,
   "metadata": {},
   "outputs": [
    {
     "output_type": "execute_result",
     "data": {
      "text/plain": "[Paragraph(id=None, references=[], text='Three sample preparation techniques, focused ion beam (FIB), ion beam (IB) etching, and ultramicrotomy (UM) were used in comparison to analyze the interphase of carbon fiber/epoxy composites using transmission electron microscopy. An intact interphase with a relatively uniform thickness was obtained by FIB, and detailed chemical analysis of the interphase was investigated by electron energy loss spectroscopy. It shows that the interphase region is 200nm wide with an increasing oxygen-to-carbon ratio from 10nm to 19nm and an almost constant nitrogen-to-carbon ratio of about 3%. However, gallium implantation of FIB tends to hinder fine structure analysis of the interphase. For IB etching, the interphase region is observed with transition morphology from amorphous resin to nano-crystalline carbon fiber, but the uneven sample thickness brings difficulty for quantitative chemical analysis. Moreover, UM tends to cause damage and/or deformation on the interphase. These results are meaningful for in-depth understanding on the interphase characteristic of carbon fiber composites.')]"
     },
     "metadata": {},
     "execution_count": 12
    }
   ],
   "source": [
    "# Extracting Different elements (title,heading, paragraphs etc.)\n",
    "from chemdataextractor import Document\n",
    "\n",
    "doc = Document('Three sample preparation techniques, focused ion beam (FIB), ion beam (IB) etching, and ultramicrotomy (UM) were used in comparison to analyze the interphase of carbon fiber/epoxy composites using transmission electron microscopy. An intact interphase with a relatively uniform thickness was obtained by FIB, and detailed chemical analysis of the interphase was investigated by electron energy loss spectroscopy. It shows that the interphase region is 200nm wide with an increasing oxygen-to-carbon ratio from 10nm to 19nm and an almost constant nitrogen-to-carbon ratio of about 3%. However, gallium implantation of FIB tends to hinder fine structure analysis of the interphase. For IB etching, the interphase region is observed with transition morphology from amorphous resin to nano-crystalline carbon fiber, but the uneven sample thickness brings difficulty for quantitative chemical analysis. Moreover, UM tends to cause damage and/or deformation on the interphase. These results are meaningful for in-depth understanding on the interphase characteristic of carbon fiber composites.')\n",
    "\n",
    "doc.elements"
   ]
  },
  {
   "cell_type": "code",
   "execution_count": 25,
   "metadata": {},
   "outputs": [
    {
     "output_type": "execute_result",
     "data": {
      "text/plain": "[Sentence('Three sample preparation techniques, focused ion beam (FIB), ion beam (IB) etching, and ultramicrotomy (UM) were used in comparison to analyze the interphase of carbon fiber/epoxy composites using transmission electron microscopy.', 0, 230),\n Sentence('An intact interphase with a relatively uniform thickness was obtained by FIB, and detailed chemical analysis of the interphase was investigated by electron energy loss spectroscopy.', 231, 412),\n Sentence('It shows that the interphase region is 200nm wide with an increasing oxygen-to-carbon ratio from 10nm to 19nm and an almost constant nitrogen-to-carbon ratio of about 3%.', 413, 583),\n Sentence('However, gallium implantation of FIB tends to hinder fine structure analysis of the interphase.', 584, 679),\n Sentence('For IB etching, the interphase region is observed with transition morphology from amorphous resin to nano-crystalline carbon fiber, but the uneven sample thickness brings difficulty for quantitative chemical analysis.', 680, 897),\n Sentence('Moreover, UM tends to cause damage and/or deformation on the interphase.', 898, 970),\n Sentence('These results are meaningful for in-depth understanding on the interphase characteristic of carbon fiber composites.', 971, 1087)]"
     },
     "metadata": {},
     "execution_count": 25
    }
   ],
   "source": [
    "# Extracting individual sentances of a paragraph\n",
    "from chemdataextractor import Document\n",
    "\n",
    "doc = Document('Three sample preparation techniques, focused ion beam (FIB), ion beam (IB) etching, and ultramicrotomy (UM) were used in comparison to analyze the interphase of carbon fiber/epoxy composites using transmission electron microscopy. An intact interphase with a relatively uniform thickness was obtained by FIB, and detailed chemical analysis of the interphase was investigated by electron energy loss spectroscopy. It shows that the interphase region is 200nm wide with an increasing oxygen-to-carbon ratio from 10nm to 19nm and an almost constant nitrogen-to-carbon ratio of about 3%. However, gallium implantation of FIB tends to hinder fine structure analysis of the interphase. For IB etching, the interphase region is observed with transition morphology from amorphous resin to nano-crystalline carbon fiber, but the uneven sample thickness brings difficulty for quantitative chemical analysis. Moreover, UM tends to cause damage and/or deformation on the interphase. These results are meaningful for in-depth understanding on the interphase characteristic of carbon fiber composites.')\n",
    "\n",
    "para = doc.elements[0]\n",
    "\n",
    "para.sentences"
   ]
  },
  {
   "cell_type": "code",
   "execution_count": 26,
   "metadata": {},
   "outputs": [
    {
     "output_type": "execute_result",
     "data": {
      "text/plain": "[[Token('Three', 0, 5),\n  Token('sample', 6, 12),\n  Token('preparation', 13, 24),\n  Token('techniques', 25, 35),\n  Token(',', 35, 36),\n  Token('focused', 37, 44),\n  Token('ion', 45, 48),\n  Token('beam', 49, 53),\n  Token('(', 54, 55),\n  Token('FIB', 55, 58),\n  Token(')', 58, 59),\n  Token(',', 59, 60),\n  Token('ion', 61, 64),\n  Token('beam', 65, 69),\n  Token('(', 70, 71),\n  Token('IB', 71, 73),\n  Token(')', 73, 74),\n  Token('etching', 75, 82),\n  Token(',', 82, 83),\n  Token('and', 84, 87),\n  Token('ultramicrotomy', 88, 102),\n  Token('(', 103, 104),\n  Token('UM', 104, 106),\n  Token(')', 106, 107),\n  Token('were', 108, 112),\n  Token('used', 113, 117),\n  Token('in', 118, 120),\n  Token('comparison', 121, 131),\n  Token('to', 132, 134),\n  Token('analyze', 135, 142),\n  Token('the', 143, 146),\n  Token('interphase', 147, 157),\n  Token('of', 158, 160),\n  Token('carbon', 161, 167),\n  Token('fiber', 168, 173),\n  Token('/', 173, 174),\n  Token('epoxy', 174, 179),\n  Token('composites', 180, 190),\n  Token('using', 191, 196),\n  Token('transmission', 197, 209),\n  Token('electron', 210, 218),\n  Token('microscopy', 219, 229),\n  Token('.', 229, 230)],\n [Token('An', 231, 233),\n  Token('intact', 234, 240),\n  Token('interphase', 241, 251),\n  Token('with', 252, 256),\n  Token('a', 257, 258),\n  Token('relatively', 259, 269),\n  Token('uniform', 270, 277),\n  Token('thickness', 278, 287),\n  Token('was', 288, 291),\n  Token('obtained', 292, 300),\n  Token('by', 301, 303),\n  Token('FIB', 304, 307),\n  Token(',', 307, 308),\n  Token('and', 309, 312),\n  Token('detailed', 313, 321),\n  Token('chemical', 322, 330),\n  Token('analysis', 331, 339),\n  Token('of', 340, 342),\n  Token('the', 343, 346),\n  Token('interphase', 347, 357),\n  Token('was', 358, 361),\n  Token('investigated', 362, 374),\n  Token('by', 375, 377),\n  Token('electron', 378, 386),\n  Token('energy', 387, 393),\n  Token('loss', 394, 398),\n  Token('spectroscopy', 399, 411),\n  Token('.', 411, 412)],\n [Token('It', 413, 415),\n  Token('shows', 416, 421),\n  Token('that', 422, 426),\n  Token('the', 427, 430),\n  Token('interphase', 431, 441),\n  Token('region', 442, 448),\n  Token('is', 449, 451),\n  Token('200', 452, 455),\n  Token('nm', 455, 457),\n  Token('wide', 458, 462),\n  Token('with', 463, 467),\n  Token('an', 468, 470),\n  Token('increasing', 471, 481),\n  Token('oxygen', 482, 488),\n  Token('-', 488, 489),\n  Token('to', 489, 491),\n  Token('-', 491, 492),\n  Token('carbon', 492, 498),\n  Token('ratio', 499, 504),\n  Token('from', 505, 509),\n  Token('10', 510, 512),\n  Token('nm', 512, 514),\n  Token('to', 515, 517),\n  Token('19', 518, 520),\n  Token('nm', 520, 522),\n  Token('and', 523, 526),\n  Token('an', 527, 529),\n  Token('almost', 530, 536),\n  Token('constant', 537, 545),\n  Token('nitrogen', 546, 554),\n  Token('-', 554, 555),\n  Token('to', 555, 557),\n  Token('-', 557, 558),\n  Token('carbon', 558, 564),\n  Token('ratio', 565, 570),\n  Token('of', 571, 573),\n  Token('about', 574, 579),\n  Token('3', 580, 581),\n  Token('%', 581, 582),\n  Token('.', 582, 583)],\n [Token('However', 584, 591),\n  Token(',', 591, 592),\n  Token('gallium', 593, 600),\n  Token('implantation', 601, 613),\n  Token('of', 614, 616),\n  Token('FIB', 617, 620),\n  Token('tends', 621, 626),\n  Token('to', 627, 629),\n  Token('hinder', 630, 636),\n  Token('fine', 637, 641),\n  Token('structure', 642, 651),\n  Token('analysis', 652, 660),\n  Token('of', 661, 663),\n  Token('the', 664, 667),\n  Token('interphase', 668, 678),\n  Token('.', 678, 679)],\n [Token('For', 680, 683),\n  Token('IB', 684, 686),\n  Token('etching', 687, 694),\n  Token(',', 694, 695),\n  Token('the', 696, 699),\n  Token('interphase', 700, 710),\n  Token('region', 711, 717),\n  Token('is', 718, 720),\n  Token('observed', 721, 729),\n  Token('with', 730, 734),\n  Token('transition', 735, 745),\n  Token('morphology', 746, 756),\n  Token('from', 757, 761),\n  Token('amorphous', 762, 771),\n  Token('resin', 772, 777),\n  Token('to', 778, 780),\n  Token('nano-crystalline', 781, 797),\n  Token('carbon', 798, 804),\n  Token('fiber', 805, 810),\n  Token(',', 810, 811),\n  Token('but', 812, 815),\n  Token('the', 816, 819),\n  Token('uneven', 820, 826),\n  Token('sample', 827, 833),\n  Token('thickness', 834, 843),\n  Token('brings', 844, 850),\n  Token('difficulty', 851, 861),\n  Token('for', 862, 865),\n  Token('quantitative', 866, 878),\n  Token('chemical', 879, 887),\n  Token('analysis', 888, 896),\n  Token('.', 896, 897)],\n [Token('Moreover', 898, 906),\n  Token(',', 906, 907),\n  Token('UM', 908, 910),\n  Token('tends', 911, 916),\n  Token('to', 917, 919),\n  Token('cause', 920, 925),\n  Token('damage', 926, 932),\n  Token('and', 933, 936),\n  Token('/', 936, 937),\n  Token('or', 937, 939),\n  Token('deformation', 940, 951),\n  Token('on', 952, 954),\n  Token('the', 955, 958),\n  Token('interphase', 959, 969),\n  Token('.', 969, 970)],\n [Token('These', 971, 976),\n  Token('results', 977, 984),\n  Token('are', 985, 988),\n  Token('meaningful', 989, 999),\n  Token('for', 1000, 1003),\n  Token('in-depth', 1004, 1012),\n  Token('understanding', 1013, 1026),\n  Token('on', 1027, 1029),\n  Token('the', 1030, 1033),\n  Token('interphase', 1034, 1044),\n  Token('characteristic', 1045, 1059),\n  Token('of', 1060, 1062),\n  Token('carbon', 1063, 1069),\n  Token('fiber', 1070, 1075),\n  Token('composites', 1076, 1086),\n  Token('.', 1086, 1087)]]"
     },
     "metadata": {},
     "execution_count": 26
    }
   ],
   "source": [
    "# Extracting individual tokens\n",
    "from chemdataextractor import Document\n",
    "\n",
    "doc = Document('Three sample preparation techniques, focused ion beam (FIB), ion beam (IB) etching, and ultramicrotomy (UM) were used in comparison to analyze the interphase of carbon fiber/epoxy composites using transmission electron microscopy. An intact interphase with a relatively uniform thickness was obtained by FIB, and detailed chemical analysis of the interphase was investigated by electron energy loss spectroscopy. It shows that the interphase region is 200nm wide with an increasing oxygen-to-carbon ratio from 10nm to 19nm and an almost constant nitrogen-to-carbon ratio of about 3%. However, gallium implantation of FIB tends to hinder fine structure analysis of the interphase. For IB etching, the interphase region is observed with transition morphology from amorphous resin to nano-crystalline carbon fiber, but the uneven sample thickness brings difficulty for quantitative chemical analysis. Moreover, UM tends to cause damage and/or deformation on the interphase. These results are meaningful for in-depth understanding on the interphase characteristic of carbon fiber composites.')\n",
    "\n",
    "para = doc.elements[0]\n",
    "\n",
    "para.tokens"
   ]
  },
  {
   "cell_type": "code",
   "execution_count": 5,
   "metadata": {},
   "outputs": [
    {
     "output_type": "execute_result",
     "data": {
      "text/plain": "[]"
     },
     "metadata": {},
     "execution_count": 5
    }
   ],
   "source": [
    "# Extracting individual sentances of a paragraph\n",
    "from chemdataextractor import Document\n",
    "\n",
    "doc = Document('this is not scientific. put this is the melting point of graphene is -18 K. Polythelene m.p is 23 degrees Celsius.')\n",
    "\n",
    "doc.records.serialize()\n",
    "\n",
    "# Still in Process Rn\n"
   ]
  },
  {
   "cell_type": "code",
   "execution_count": 3,
   "metadata": {},
   "outputs": [
    {
     "output_type": "execute_result",
     "data": {
      "text/plain": "[]"
     },
     "metadata": {},
     "execution_count": 3
    }
   ],
   "source": [
    "import chemdataextractor\n",
    "import chemdataextractor.model as model\n",
    "from chemdataextractor.model import Compound\n",
    "from chemdataextractor.doc import Document, Heading, Paragraph, Sentence\n",
    "\n",
    "d = Document(\n",
    "    #Heading(u'Carbon properties'),\n",
    "    Sentence(u'polyethylene b.p. of 200 °C')\n",
    ")\n",
    "d.records.serialize()\n",
    "\n",
    "# This is output without regex"
   ]
  },
  {
   "cell_type": "code",
   "execution_count": 2,
   "metadata": {},
   "outputs": [
    {
     "output_type": "execute_result",
     "data": {
      "text/plain": "[]"
     },
     "metadata": {},
     "execution_count": 2
    }
   ],
   "source": [
    "from chemdataextractor.model import BaseModel, StringType, ListType, ModelType\n",
    "\n",
    "class BoilingPoint(BaseModel):\n",
    "    value = StringType()\n",
    "    units = StringType()\n",
    "    \n",
    "Compound.boiling_points = ListType(ModelType(BoilingPoint))\n",
    "\n",
    "\n",
    "import re\n",
    "from chemdataextractor.parse import R, I, W, Optional, merge\n",
    "\n",
    "prefix = (R(u'^b\\.?p\\.?$', re.I) | I(u'boiling') + I(u'point')).hide()\n",
    "units = (W(u'°') + Optional(R(u'^[CFK]\\.?$')))(u'units').add_action(merge)\n",
    "value = R(u'^\\d+(\\.\\d+)?$')(u'value')\n",
    "bp = (prefix + value + units)(u'bp')\n",
    "\n",
    "\n",
    "from chemdataextractor.parse.base import BaseParser\n",
    "from chemdataextractor.utils import first\n",
    "\n",
    "class BpParser(BaseParser):\n",
    "    root = bp\n",
    "\n",
    "    def interpret(self, result, start, end):\n",
    "        compound = Compound(\n",
    "            boiling_points=[\n",
    "                BoilingPoint(\n",
    "                    value=first(result.xpath('./value/text()')),\n",
    "                    units=first(result.xpath('./units/text()'))\n",
    "                )\n",
    "            ]\n",
    "        )\n",
    "        yield compound\n",
    "\n",
    "Paragraph.parsers = [BpParser()]\n",
    "\n",
    "d.records.serialize()\n",
    "\n",
    "\n"
   ]
  }
 ],
 "metadata": {
  "language_info": {
   "codemirror_mode": {
    "name": "ipython",
    "version": 3
   },
   "file_extension": ".py",
   "mimetype": "text/x-python",
   "name": "python",
   "nbconvert_exporter": "python",
   "pygments_lexer": "ipython3",
   "version": "3.7.6-final"
  },
  "orig_nbformat": 2,
  "kernelspec": {
   "name": "python3",
   "display_name": "Python 3"
  }
 },
 "nbformat": 4,
 "nbformat_minor": 2
}