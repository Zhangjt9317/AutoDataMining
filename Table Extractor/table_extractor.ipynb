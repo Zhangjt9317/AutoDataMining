{
 "cells": [
  {
   "cell_type": "code",
   "execution_count": 5,
   "metadata": {},
   "outputs": [
    {
     "ename": "NameError",
     "evalue": "name 'directory' is not defined",
     "output_type": "error",
     "traceback": [
      "\u001b[1;31m---------------------------------------------------------------------------\u001b[0m",
      "\u001b[1;31mNameError\u001b[0m                                 Traceback (most recent call last)",
      "\u001b[1;32m<ipython-input-5-2b6c46b6cd6d>\u001b[0m in \u001b[0;36m<module>\u001b[1;34m\u001b[0m\n\u001b[0;32m     19\u001b[0m         \u001b[0mall_files\u001b[0m\u001b[1;33m.\u001b[0m\u001b[0mappend\u001b[0m\u001b[1;33m(\u001b[0m\u001b[0mlist_of_files\u001b[0m\u001b[1;33m)\u001b[0m \u001b[1;31m#All the XML files in a list\u001b[0m\u001b[1;33m\u001b[0m\u001b[1;33m\u001b[0m\u001b[0m\n\u001b[0;32m     20\u001b[0m \u001b[1;32mfor\u001b[0m \u001b[0mf\u001b[0m \u001b[1;32min\u001b[0m \u001b[0mfilenames\u001b[0m\u001b[1;33m:\u001b[0m\u001b[1;33m\u001b[0m\u001b[1;33m\u001b[0m\u001b[0m\n\u001b[1;32m---> 21\u001b[1;33m     \u001b[0mtables\u001b[0m\u001b[1;33m,\u001b[0m \u001b[0mheaders\u001b[0m \u001b[1;33m=\u001b[0m \u001b[0mget_tables_from_xml_file\u001b[0m\u001b[1;33m(\u001b[0m\u001b[0mf\u001b[0m\u001b[1;33m)\u001b[0m\u001b[1;33m\u001b[0m\u001b[1;33m\u001b[0m\u001b[0m\n\u001b[0m\u001b[0;32m     22\u001b[0m     \u001b[0mtree\u001b[0m \u001b[1;33m=\u001b[0m \u001b[0mET\u001b[0m\u001b[1;33m.\u001b[0m\u001b[0mparse\u001b[0m\u001b[1;33m(\u001b[0m\u001b[0mfilepath\u001b[0m\u001b[1;33m)\u001b[0m\u001b[1;33m\u001b[0m\u001b[1;33m\u001b[0m\u001b[0m\n\u001b[0;32m     23\u001b[0m     \u001b[0mroot\u001b[0m \u001b[1;33m=\u001b[0m \u001b[0mET\u001b[0m\u001b[1;33m.\u001b[0m\u001b[0mtostring\u001b[0m\u001b[1;33m(\u001b[0m\u001b[0mtree\u001b[0m\u001b[1;33m.\u001b[0m\u001b[0mgetroot\u001b[0m\u001b[1;33m(\u001b[0m\u001b[1;33m)\u001b[0m\u001b[1;33m)\u001b[0m\u001b[1;33m\u001b[0m\u001b[1;33m\u001b[0m\u001b[0m\n",
      "\u001b[1;32m<ipython-input-5-2b6c46b6cd6d>\u001b[0m in \u001b[0;36mget_tables_from_xml_file\u001b[1;34m(filepath)\u001b[0m\n\u001b[0;32m     14\u001b[0m \u001b[1;33m\u001b[0m\u001b[0m\n\u001b[0;32m     15\u001b[0m \u001b[1;32mdef\u001b[0m \u001b[0mget_tables_from_xml_file\u001b[0m\u001b[1;33m(\u001b[0m\u001b[0mfilepath\u001b[0m\u001b[1;33m)\u001b[0m\u001b[1;33m:\u001b[0m\u001b[1;33m\u001b[0m\u001b[1;33m\u001b[0m\u001b[0m\n\u001b[1;32m---> 16\u001b[1;33m     \u001b[1;32mfor\u001b[0m \u001b[0mfilename\u001b[0m \u001b[1;32min\u001b[0m \u001b[0mos\u001b[0m\u001b[1;33m.\u001b[0m\u001b[0mlistdir\u001b[0m\u001b[1;33m(\u001b[0m\u001b[0mdirectory\u001b[0m\u001b[1;33m)\u001b[0m\u001b[1;33m:\u001b[0m\u001b[1;33m\u001b[0m\u001b[1;33m\u001b[0m\u001b[0m\n\u001b[0m\u001b[0;32m     17\u001b[0m         \u001b[1;32mif\u001b[0m \u001b[0mfilename\u001b[0m\u001b[1;33m.\u001b[0m\u001b[0mendswith\u001b[0m\u001b[1;33m(\u001b[0m\u001b[1;34m\".xml\"\u001b[0m\u001b[1;33m)\u001b[0m\u001b[1;33m:\u001b[0m\u001b[1;33m\u001b[0m\u001b[1;33m\u001b[0m\u001b[0m\n\u001b[0;32m     18\u001b[0m             \u001b[0mlist_of_files\u001b[0m \u001b[1;33m=\u001b[0m \u001b[0mos\u001b[0m\u001b[1;33m.\u001b[0m\u001b[0mpath\u001b[0m\u001b[1;33m.\u001b[0m\u001b[0mjoin\u001b[0m\u001b[1;33m(\u001b[0m\u001b[0mdirectory\u001b[0m\u001b[1;33m,\u001b[0m \u001b[0mfilename\u001b[0m\u001b[1;33m)\u001b[0m\u001b[1;33m\u001b[0m\u001b[1;33m\u001b[0m\u001b[0m\n",
      "\u001b[1;31mNameError\u001b[0m: name 'directory' is not defined"
     ]
    }
   ],
   "source": [
    "import pandas as pd\n",
    "import numpy as np\n",
    "import xml.etree.ElementTree as ET\n",
    "import os \n",
    "\n",
    "def get_tables_from_xml_file(path):\n",
    "    content_list = []\n",
    "    total_list = []\n",
    "    sub_header = []\n",
    "    all_tables = []\n",
    "    all_files = []\n",
    "    directory = path\n",
    "    counter = 0\n",
    "    for filename in os.listdir(directory):\n",
    "        if filename.endswith(\".xml\"):\n",
    "            list_of_files = os.path.join(directory, filename)\n",
    "        all_files.append(list_of_files) #All the XML files in a list\n",
    "    for i in all_files: #For loop that goes through the list\n",
    "        tree = ET.parse(i)\n",
    "        root = ET.tostring(tree.getroot())\n",
    "        table_lists = tree.iter('{http://www.elsevier.com/xml/common/dtd}table')\n",
    "        for table in table_lists:\n",
    "            lst = table.iter('{http://www.elsevier.com/xml/common/cals/dtd}thead')\n",
    "            for tags in lst:\n",
    "                rows = tags.findall('{http://www.elsevier.com/xml/common/cals/dtd}row')\n",
    "                entry_list = rows[0].findall('{http://www.elsevier.com/xml/common/dtd}entry')\n",
    "                for every_entry in entry_list:\n",
    "                    total = ''\n",
    "                    for x in every_entry.itertext():\n",
    "                        total = total + x\n",
    "                    total_list.append(total)\n",
    "                    if 'nameend' in every_entry.attrib.keys():\n",
    "                        if every_entry.attrib['nameend'][:3] == 'col':\n",
    "                            namest = int(every_entry.attrib['namest'][3:])\n",
    "                            nameend = int(every_entry.attrib['nameend'][3:])\n",
    "                            total_list = total_list + ['']*(nameend - namest)\n",
    "                if len(rows) == 2:\n",
    "                    entry_list = rows[1].findall('{http://www.elsevier.com/xml/common/dtd}entry')\n",
    "                    for more_entry in entry_list: \n",
    "                        total2 = ''\n",
    "                        for y in more_entry.itertext():\n",
    "                            total2 = y + total2\n",
    "                        sub_header.append(total2)\n",
    "                    content_list.append(sub_header)\n",
    "            lst2 = table.iter('{http://www.elsevier.com/xml/common/cals/dtd}tbody')\n",
    "            for data in lst2:\n",
    "                rows = data.findall('{http://www.elsevier.com/xml/common/cals/dtd}row')\n",
    "                for row in rows: \n",
    "                    entry_list = row.findall('{http://www.elsevier.com/xml/common/dtd}entry')\n",
    "                    row_data = []\n",
    "                    for entry in entry_list:\n",
    "                        content = entry.text \n",
    "                        row_data.append(content)\n",
    "                    content_list.append(row_data)\n",
    "            rows = content_list\n",
    "            df = pd.DataFrame(rows, columns = total_list)\n",
    "            #print(df)\n",
    "            #df.to_csv('Table' + str(counter) + '.csv',encoding='utf-8')\n",
    "            counter = counter + 1\n",
    "            content_list.clear()\n",
    "            total_list.clear()\n",
    "            sub_header.clear()\n",
    "            all_tables.append(df)\n",
    "    return all_tables\n",
    "get_tables_from_xml_file(path = r'C:/Users/shulo/OneDrive/Desktop/testing')"
   ]
  },
  {
   "cell_type": "code",
   "execution_count": null,
   "metadata": {},
   "outputs": [],
   "source": []
  }
 ],
 "metadata": {
  "kernelspec": {
   "display_name": "Python 3",
   "language": "python",
   "name": "python3"
  },
  "language_info": {
   "codemirror_mode": {
    "name": "ipython",
    "version": 3
   },
   "file_extension": ".py",
   "mimetype": "text/x-python",
   "name": "python",
   "nbconvert_exporter": "python",
   "pygments_lexer": "ipython3",
   "version": "3.7.4"
  }
 },
 "nbformat": 4,
 "nbformat_minor": 2
}
