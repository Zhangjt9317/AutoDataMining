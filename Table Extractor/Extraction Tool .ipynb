{
 "cells": [
  {
   "cell_type": "code",
   "execution_count": 2,
   "metadata": {
    "scrolled": true
   },
   "outputs": [
    {
     "name": "stdout",
     "output_type": "stream",
     "text": [
      "abs\n",
      "em\n",
      "F\n",
      "\n",
      "                              \n",
      "\n",
      "                              \n",
      "g\n",
      "m\n",
      "d\n",
      "g\n",
      "\n",
      "                              \n",
      "\n",
      "                              \n",
      "EL\n",
      "\n",
      "                              \n",
      "max\n",
      "\n",
      "                              \n",
      "−2\n",
      "max\n",
      "\n",
      "                              \n",
      "−1\n",
      "max\n",
      "\n",
      "                              \n",
      "−1\n",
      "\n",
      "                              \n",
      "\n",
      "                              \n",
      "on\n",
      "\n",
      "                              \n",
      "V\n",
      "on\n",
      "L\n",
      "max\n",
      "−2\n",
      "C,max\n",
      "−1\n",
      "P,max\n",
      "−1\n",
      "EL\n"
     ]
    }
   ],
   "source": [
    "import xml.etree.ElementTree as ET\n",
    "filepath = \"C:/Users/shulo/DataExtractor/DataExtractor/notebook/Demos/testing_download_articles/write_test_els_paper6.xml\"\n",
    "tree = ET.parse(filepath)\n",
    "root = ET.tostring(tree.getroot())\n",
    "lst = tree.iter('{http://www.elsevier.com/xml/common/cals/dtd}thead')\n",
    "for tags in lst: \n",
    "    row = tags.find('{http://www.elsevier.com/xml/common/cals/dtd}row')\n",
    "    entry_list = row.findall('{http://www.elsevier.com/xml/common/dtd}entry') \n",
    "    for entry in entry_list:\n",
    "        for content in entry:\n",
    "            if content == ('{http://www.elsevier.com/xml/common/dtd}inf'):\n",
    "                information = content.findall('{http://www.elsevier.com/xml/common/dtd}inf')\n",
    "        for x in entry:\n",
    "            print(x.text)"
   ]
  },
  {
   "cell_type": "code",
   "execution_count": null,
   "metadata": {},
   "outputs": [],
   "source": []
  }
 ],
 "metadata": {
  "kernelspec": {
   "display_name": "Python 3",
   "language": "python",
   "name": "python3"
  },
  "language_info": {
   "codemirror_mode": {
    "name": "ipython",
    "version": 3
   },
   "file_extension": ".py",
   "mimetype": "text/x-python",
   "name": "python",
   "nbconvert_exporter": "python",
   "pygments_lexer": "ipython3",
   "version": "3.7.4"
  }
 },
 "nbformat": 4,
 "nbformat_minor": 2
}
